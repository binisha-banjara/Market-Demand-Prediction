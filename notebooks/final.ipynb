{
 "cells": [
  {
   "cell_type": "code",
   "execution_count": 1,
   "metadata": {},
   "outputs": [],
   "source": [
    "import numpy as np  \n",
    "import pandas as pd \n",
    "import matplotlib.pyplot as plt\n",
    "import seaborn as sns"
   ]
  },
  {
   "cell_type": "code",
   "execution_count": 2,
   "metadata": {},
   "outputs": [],
   "source": [
    "df = pd.read_csv(\"../dataset/kalimati.csv\")"
   ]
  },
  {
   "cell_type": "code",
   "execution_count": 3,
   "metadata": {},
   "outputs": [
    {
     "name": "stdout",
     "output_type": "stream",
     "text": [
      "SN                    int64\n",
      "Commodity            object\n",
      "Date         datetime64[ns]\n",
      "Unit                 object\n",
      "Minimum               int64\n",
      "Maximum               int64\n",
      "Average             float64\n",
      "dtype: object\n"
     ]
    }
   ],
   "source": [
    "df['Date'] = pd.to_datetime(df['Date'])\n",
    "print(df.dtypes)"
   ]
  },
  {
   "cell_type": "code",
   "execution_count": 4,
   "metadata": {},
   "outputs": [
    {
     "data": {
      "text/html": [
       "<div>\n",
       "<style scoped>\n",
       "    .dataframe tbody tr th:only-of-type {\n",
       "        vertical-align: middle;\n",
       "    }\n",
       "\n",
       "    .dataframe tbody tr th {\n",
       "        vertical-align: top;\n",
       "    }\n",
       "\n",
       "    .dataframe thead th {\n",
       "        text-align: right;\n",
       "    }\n",
       "</style>\n",
       "<table border=\"1\" class=\"dataframe\">\n",
       "  <thead>\n",
       "    <tr style=\"text-align: right;\">\n",
       "      <th></th>\n",
       "      <th>SN</th>\n",
       "      <th>Commodity</th>\n",
       "      <th>Date</th>\n",
       "      <th>Unit</th>\n",
       "      <th>Minimum</th>\n",
       "      <th>Maximum</th>\n",
       "      <th>Average</th>\n",
       "    </tr>\n",
       "  </thead>\n",
       "  <tbody>\n",
       "    <tr>\n",
       "      <th>0</th>\n",
       "      <td>0</td>\n",
       "      <td>Tomato Big(Nepali)</td>\n",
       "      <td>2013-06-16</td>\n",
       "      <td>Kg</td>\n",
       "      <td>35</td>\n",
       "      <td>40</td>\n",
       "      <td>37.5</td>\n",
       "    </tr>\n",
       "    <tr>\n",
       "      <th>1</th>\n",
       "      <td>1</td>\n",
       "      <td>Tomato Small(Local)</td>\n",
       "      <td>2013-06-16</td>\n",
       "      <td>Kg</td>\n",
       "      <td>26</td>\n",
       "      <td>32</td>\n",
       "      <td>29.0</td>\n",
       "    </tr>\n",
       "    <tr>\n",
       "      <th>2</th>\n",
       "      <td>2</td>\n",
       "      <td>Potato Red</td>\n",
       "      <td>2013-06-16</td>\n",
       "      <td>Kg</td>\n",
       "      <td>20</td>\n",
       "      <td>21</td>\n",
       "      <td>20.5</td>\n",
       "    </tr>\n",
       "    <tr>\n",
       "      <th>3</th>\n",
       "      <td>3</td>\n",
       "      <td>Potato White</td>\n",
       "      <td>2013-06-16</td>\n",
       "      <td>Kg</td>\n",
       "      <td>15</td>\n",
       "      <td>16</td>\n",
       "      <td>15.5</td>\n",
       "    </tr>\n",
       "    <tr>\n",
       "      <th>4</th>\n",
       "      <td>4</td>\n",
       "      <td>Onion Dry (Indian)</td>\n",
       "      <td>2013-06-16</td>\n",
       "      <td>Kg</td>\n",
       "      <td>28</td>\n",
       "      <td>30</td>\n",
       "      <td>29.0</td>\n",
       "    </tr>\n",
       "  </tbody>\n",
       "</table>\n",
       "</div>"
      ],
      "text/plain": [
       "   SN            Commodity       Date Unit  Minimum  Maximum  Average\n",
       "0   0   Tomato Big(Nepali) 2013-06-16   Kg       35       40     37.5\n",
       "1   1  Tomato Small(Local) 2013-06-16   Kg       26       32     29.0\n",
       "2   2           Potato Red 2013-06-16   Kg       20       21     20.5\n",
       "3   3         Potato White 2013-06-16   Kg       15       16     15.5\n",
       "4   4   Onion Dry (Indian) 2013-06-16   Kg       28       30     29.0"
      ]
     },
     "execution_count": 4,
     "metadata": {},
     "output_type": "execute_result"
    }
   ],
   "source": [
    "df.head()"
   ]
  },
  {
   "cell_type": "code",
   "execution_count": 5,
   "metadata": {},
   "outputs": [
    {
     "name": "stdout",
     "output_type": "stream",
     "text": [
      "Missing values in each column:\n",
      " SN           0\n",
      "Commodity    0\n",
      "Date         0\n",
      "Unit         0\n",
      "Minimum      0\n",
      "Maximum      0\n",
      "Average      0\n",
      "dtype: int64\n"
     ]
    }
   ],
   "source": [
    "missing_values = df.isnull().sum()\n",
    "print(\"Missing values in each column:\\n\", missing_values)"
   ]
  },
  {
   "cell_type": "code",
   "execution_count": 6,
   "metadata": {},
   "outputs": [],
   "source": [
    "df = df.drop_duplicates()"
   ]
  },
  {
   "cell_type": "code",
   "execution_count": 7,
   "metadata": {},
   "outputs": [
    {
     "name": "stderr",
     "output_type": "stream",
     "text": [
      "C:\\Users\\User\\AppData\\Local\\Temp\\ipykernel_10680\\2970160179.py:3: InterpolationWarning: The test statistic is outside of the range of p-values available in the\n",
      "look-up table. The actual p-value is smaller than the p-value returned.\n",
      "\n",
      "  stats, p, lags, critical_values = kpss(df['Average'], 'ct')\n"
     ]
    }
   ],
   "source": [
    "from statsmodels.tsa.stattools import kpss\n",
    "\n",
    "stats, p, lags, critical_values = kpss(df['Average'], 'ct')\n"
   ]
  },
  {
   "cell_type": "code",
   "execution_count": 8,
   "metadata": {},
   "outputs": [
    {
     "name": "stdout",
     "output_type": "stream",
     "text": [
      "KPSS Statistic: 2.104502837466922\n",
      "p-value: 0.01\n",
      "num lags: 158\n",
      "Critial Values: {'10%': 0.119, '5%': 0.146, '2.5%': 0.176, '1%': 0.216}\n"
     ]
    }
   ],
   "source": [
    "\n",
    "print(f'KPSS Statistic: {stats}')\n",
    "print(f'p-value: {p}')\n",
    "print(f'num lags: {lags}')\n",
    "print(f'Critial Values: {critical_values}')"
   ]
  },
  {
   "cell_type": "markdown",
   "metadata": {},
   "source": []
  },
  {
   "cell_type": "code",
   "execution_count": 9,
   "metadata": {},
   "outputs": [
    {
     "name": "stdout",
     "output_type": "stream",
     "text": [
      "Series is not stationary\n"
     ]
    }
   ],
   "source": [
    "if p < 0.05:\n",
    "  print('Series is not stationary')\n",
    "else:\n",
    "  print('Series is stationary')"
   ]
  },
  {
   "cell_type": "code",
   "execution_count": 10,
   "metadata": {},
   "outputs": [],
   "source": [
    "df = df.sort_values(by=['Date', 'Commodity'])\n",
    "\n",
    "# Set the Date as index\n",
    "df.set_index('Date', inplace=True)"
   ]
  },
  {
   "cell_type": "code",
   "execution_count": 11,
   "metadata": {},
   "outputs": [],
   "source": [
    "df['Average_diff'] = df['Average'].diff()\n",
    "\n",
    "# Drop NaN values resulting from differencing\n",
    "df_diff = df.dropna()"
   ]
  },
  {
   "cell_type": "code",
   "execution_count": 12,
   "metadata": {},
   "outputs": [
    {
     "name": "stdout",
     "output_type": "stream",
     "text": [
      "KPSS Statistic: 0.0018234165904208752\n",
      "p-value: 0.1\n",
      "Critical Values: {'10%': 0.119, '5%': 0.146, '2.5%': 0.176, '1%': 0.216}\n"
     ]
    },
    {
     "name": "stderr",
     "output_type": "stream",
     "text": [
      "C:\\Users\\User\\AppData\\Local\\Temp\\ipykernel_10680\\806289154.py:2: InterpolationWarning: The test statistic is outside of the range of p-values available in the\n",
      "look-up table. The actual p-value is greater than the p-value returned.\n",
      "\n",
      "  stats, p, lags, critical_values = kpss(df_diff['Average_diff'], 'ct')\n"
     ]
    }
   ],
   "source": [
    "# Check stationarity again with KPSS test\n",
    "stats, p, lags, critical_values = kpss(df_diff['Average_diff'], 'ct')\n",
    "print('KPSS Statistic:', stats)\n",
    "print('p-value:', p)\n",
    "print('Critical Values:', critical_values)\n",
    "\n"
   ]
  },
  {
   "cell_type": "code",
   "execution_count": 13,
   "metadata": {},
   "outputs": [
    {
     "name": "stdout",
     "output_type": "stream",
     "text": [
      "Series is stationary after differencing.\n"
     ]
    }
   ],
   "source": [
    "if p < 0.05:\n",
    "    print('Series is still not stationary. Applying second-order differencing...')\n",
    "    df['Average_diff2'] = df['Average_diff'].diff()\n",
    "    df_diff2 = df.dropna()\n",
    "    stats, p, lags, critical_values = kpss(df_diff2['Average_diff2'], 'ct')\n",
    "    print('KPSS Statistic:', stats)\n",
    "    print('p-value:', p)\n",
    "    print('Critical Values:', critical_values)\n",
    "\n",
    "if p >= 0.05:\n",
    "    print('Series is stationary after differencing.')"
   ]
  },
  {
   "cell_type": "code",
   "execution_count": 14,
   "metadata": {},
   "outputs": [
    {
     "data": {
      "text/html": [
       "<div>\n",
       "<style scoped>\n",
       "    .dataframe tbody tr th:only-of-type {\n",
       "        vertical-align: middle;\n",
       "    }\n",
       "\n",
       "    .dataframe tbody tr th {\n",
       "        vertical-align: top;\n",
       "    }\n",
       "\n",
       "    .dataframe thead th {\n",
       "        text-align: right;\n",
       "    }\n",
       "</style>\n",
       "<table border=\"1\" class=\"dataframe\">\n",
       "  <thead>\n",
       "    <tr style=\"text-align: right;\">\n",
       "      <th></th>\n",
       "      <th>SN</th>\n",
       "      <th>Commodity</th>\n",
       "      <th>Unit</th>\n",
       "      <th>Minimum</th>\n",
       "      <th>Maximum</th>\n",
       "      <th>Average</th>\n",
       "      <th>Average_diff</th>\n",
       "    </tr>\n",
       "    <tr>\n",
       "      <th>Date</th>\n",
       "      <th></th>\n",
       "      <th></th>\n",
       "      <th></th>\n",
       "      <th></th>\n",
       "      <th></th>\n",
       "      <th></th>\n",
       "      <th></th>\n",
       "    </tr>\n",
       "  </thead>\n",
       "  <tbody>\n",
       "    <tr>\n",
       "      <th>2013-06-16</th>\n",
       "      <td>50</td>\n",
       "      <td>Apple(Jholey)</td>\n",
       "      <td>Kg</td>\n",
       "      <td>100</td>\n",
       "      <td>120</td>\n",
       "      <td>110.0</td>\n",
       "      <td>NaN</td>\n",
       "    </tr>\n",
       "    <tr>\n",
       "      <th>2013-06-16</th>\n",
       "      <td>34</td>\n",
       "      <td>Asparagus</td>\n",
       "      <td>Kg</td>\n",
       "      <td>100</td>\n",
       "      <td>150</td>\n",
       "      <td>125.0</td>\n",
       "      <td>15.0</td>\n",
       "    </tr>\n",
       "    <tr>\n",
       "      <th>2013-06-16</th>\n",
       "      <td>47</td>\n",
       "      <td>Bamboo Shoot</td>\n",
       "      <td>Kg</td>\n",
       "      <td>50</td>\n",
       "      <td>60</td>\n",
       "      <td>55.0</td>\n",
       "      <td>-70.0</td>\n",
       "    </tr>\n",
       "    <tr>\n",
       "      <th>2013-06-16</th>\n",
       "      <td>51</td>\n",
       "      <td>Banana</td>\n",
       "      <td>Doz</td>\n",
       "      <td>70</td>\n",
       "      <td>80</td>\n",
       "      <td>75.0</td>\n",
       "      <td>20.0</td>\n",
       "    </tr>\n",
       "    <tr>\n",
       "      <th>2013-06-16</th>\n",
       "      <td>16</td>\n",
       "      <td>Bitter Gourd</td>\n",
       "      <td>Kg</td>\n",
       "      <td>14</td>\n",
       "      <td>16</td>\n",
       "      <td>15.0</td>\n",
       "      <td>-60.0</td>\n",
       "    </tr>\n",
       "  </tbody>\n",
       "</table>\n",
       "</div>"
      ],
      "text/plain": [
       "            SN      Commodity Unit  Minimum  Maximum  Average  Average_diff\n",
       "Date                                                                       \n",
       "2013-06-16  50  Apple(Jholey)   Kg      100      120    110.0           NaN\n",
       "2013-06-16  34      Asparagus   Kg      100      150    125.0          15.0\n",
       "2013-06-16  47   Bamboo Shoot   Kg       50       60     55.0         -70.0\n",
       "2013-06-16  51         Banana  Doz       70       80     75.0          20.0\n",
       "2013-06-16  16   Bitter Gourd   Kg       14       16     15.0         -60.0"
      ]
     },
     "execution_count": 14,
     "metadata": {},
     "output_type": "execute_result"
    }
   ],
   "source": [
    "df.head(5)"
   ]
  },
  {
   "cell_type": "code",
   "execution_count": 15,
   "metadata": {},
   "outputs": [],
   "source": [
    "# Q1 = df[['Minimum', 'Maximum', 'Average']].quantile(0.25)\n",
    "# Q3 = df[['Minimum', 'Maximum', 'Average']].quantile(0.75)\n",
    "# IQR = Q3 - Q1"
   ]
  },
  {
   "cell_type": "code",
   "execution_count": 16,
   "metadata": {},
   "outputs": [],
   "source": [
    "# outliers = ((df[['Minimum', 'Maximum', 'Average']] < (Q1 - 1.5 * IQR)) | (df[['Minimum', 'Maximum', 'Average']] > (Q3 + 1.5 * IQR))).any(axis=1)\n",
    "\n",
    "# # Remove outliers\n",
    "# df_cleaned = df[~outliers]"
   ]
  },
  {
   "cell_type": "code",
   "execution_count": 17,
   "metadata": {},
   "outputs": [],
   "source": [
    "# print(\"Data after cleaning:\\n\", df_cleaned)"
   ]
  },
  {
   "cell_type": "markdown",
   "metadata": {},
   "source": [
    "Date Features"
   ]
  },
  {
   "cell_type": "code",
   "execution_count": 18,
   "metadata": {},
   "outputs": [],
   "source": [
    "df_cleaned = df.copy()"
   ]
  },
  {
   "cell_type": "code",
   "execution_count": 19,
   "metadata": {},
   "outputs": [
    {
     "name": "stdout",
     "output_type": "stream",
     "text": [
      "            SN      Commodity Unit  Minimum  Maximum  Average  Average_diff  \\\n",
      "Date                                                                          \n",
      "2013-06-16  50  Apple(Jholey)   Kg      100      120    110.0           NaN   \n",
      "2013-06-16  34      Asparagus   Kg      100      150    125.0          15.0   \n",
      "2013-06-16  47   Bamboo Shoot   Kg       50       60     55.0         -70.0   \n",
      "2013-06-16  51         Banana  Doz       70       80     75.0          20.0   \n",
      "2013-06-16  16   Bitter Gourd   Kg       14       16     15.0         -60.0   \n",
      "\n",
      "            Year  Month  Day  DayOfWeek  \n",
      "Date                                     \n",
      "2013-06-16  2013      6   16          6  \n",
      "2013-06-16  2013      6   16          6  \n",
      "2013-06-16  2013      6   16          6  \n",
      "2013-06-16  2013      6   16          6  \n",
      "2013-06-16  2013      6   16          6  \n"
     ]
    }
   ],
   "source": [
    "df_cleaned.loc[:, 'Year'] = df_cleaned.index.year\n",
    "df_cleaned.loc[:, 'Month'] = df_cleaned.index.month\n",
    "df_cleaned.loc[:, 'Day'] = df_cleaned.index.day\n",
    "df_cleaned.loc[:, 'DayOfWeek'] = df_cleaned.index.dayofweek\n",
    "\n",
    "print(df_cleaned.head())"
   ]
  },
  {
   "cell_type": "markdown",
   "metadata": {},
   "source": [
    "Price Differences"
   ]
  },
  {
   "cell_type": "code",
   "execution_count": 20,
   "metadata": {},
   "outputs": [],
   "source": [
    "df_cleaned['Max_Min_Diff'] = df_cleaned['Maximum'] - df_cleaned['Minimum']\n",
    "df_cleaned['Avg_Min_Diff'] = df_cleaned['Average'] - df_cleaned['Minimum']\n",
    "df_cleaned['Max_Avg_Diff'] = df_cleaned['Maximum'] - df_cleaned['Average']"
   ]
  },
  {
   "cell_type": "code",
   "execution_count": 21,
   "metadata": {},
   "outputs": [],
   "source": [
    "df_aggregated = df_cleaned.groupby(['Date', 'Commodity']).agg({\n",
    "    'Minimum': 'mean',\n",
    "    'Maximum': 'mean',\n",
    "    'Average': 'mean',\n",
    "    'Max_Min_Diff': 'mean',\n",
    "    'Avg_Min_Diff': 'mean',\n",
    "    'Max_Avg_Diff': 'mean'\n",
    "}).reset_index()"
   ]
  },
  {
   "cell_type": "code",
   "execution_count": 22,
   "metadata": {},
   "outputs": [
    {
     "name": "stdout",
     "output_type": "stream",
     "text": [
      "                Commodity  Minimum  Maximum  Average  Max_Min_Diff  \\\n",
      "Date                                                                 \n",
      "2013-06-16  Apple(Jholey)    100.0    120.0    110.0          20.0   \n",
      "2013-06-16      Asparagus    100.0    150.0    125.0          50.0   \n",
      "2013-06-16   Bamboo Shoot     50.0     60.0     55.0          10.0   \n",
      "2013-06-16         Banana     70.0     80.0     75.0          10.0   \n",
      "2013-06-16   Bitter Gourd     14.0     16.0     15.0           2.0   \n",
      "\n",
      "            Avg_Min_Diff  Max_Avg_Diff  \n",
      "Date                                    \n",
      "2013-06-16          10.0          10.0  \n",
      "2013-06-16          25.0          25.0  \n",
      "2013-06-16           5.0           5.0  \n",
      "2013-06-16           5.0           5.0  \n",
      "2013-06-16           1.0           1.0  \n"
     ]
    }
   ],
   "source": [
    "df_aggregated['Date'] = pd.to_datetime(df_aggregated['Date'])\n",
    "df_aggregated.set_index('Date', inplace=True)\n",
    "\n",
    "print(df_aggregated.head(5))"
   ]
  },
  {
   "cell_type": "code",
   "execution_count": 23,
   "metadata": {},
   "outputs": [
    {
     "name": "stdout",
     "output_type": "stream",
     "text": [
      "            Minimum  Maximum  Average  Max_Min_Diff  Avg_Min_Diff  \\\n",
      "Date                                                                \n",
      "2013-06-16    100.0    120.0    110.0          20.0          10.0   \n",
      "2013-06-17    110.0    130.0    120.0          20.0          10.0   \n",
      "2013-06-18    110.0    120.0    115.0          10.0           5.0   \n",
      "2013-06-19    110.0    120.0    115.0          10.0           5.0   \n",
      "2013-06-20    110.0    120.0    115.0          10.0           5.0   \n",
      "\n",
      "            Max_Avg_Diff      Commodity  \n",
      "Date                                     \n",
      "2013-06-16          10.0  Apple(Jholey)  \n",
      "2013-06-17          10.0  Apple(Jholey)  \n",
      "2013-06-18           5.0  Apple(Jholey)  \n",
      "2013-06-19           5.0  Apple(Jholey)  \n",
      "2013-06-20           5.0  Apple(Jholey)  \n"
     ]
    }
   ],
   "source": [
    "# Function to handle frequency and missing dates for each commodity\n",
    "def handle_frequency(df, commodity):\n",
    "    df_commodity = df[df['Commodity'] == commodity].drop(columns=['Commodity'])\n",
    "    df_commodity = df_commodity.asfreq('D')  # Set frequency to daily\n",
    "    df_commodity['Commodity'] = commodity  # Add the commodity column back\n",
    "    return df_commodity\n",
    "\n",
    "# Get unique commodities\n",
    "commodities = df_aggregated['Commodity'].unique()\n",
    "\n",
    "# Create a list to hold DataFrames\n",
    "df_list = []\n",
    "\n",
    "# Process each commodity separately\n",
    "for commodity in commodities:\n",
    "    df_commodity = handle_frequency(df_aggregated, commodity)\n",
    "    df_list.append(df_commodity)\n",
    "\n",
    "# Concatenate all commodity DataFrames back into one DataFrame\n",
    "df_final = pd.concat(df_list)\n",
    "\n",
    "print(df_final.head(5))\n"
   ]
  },
  {
   "cell_type": "markdown",
   "metadata": {},
   "source": [
    "Lag Features"
   ]
  },
  {
   "cell_type": "code",
   "execution_count": 24,
   "metadata": {},
   "outputs": [
    {
     "name": "stdout",
     "output_type": "stream",
     "text": [
      "            Minimum  Maximum  Average  Max_Min_Diff  Avg_Min_Diff  \\\n",
      "Date                                                                \n",
      "2013-06-16    100.0    120.0    110.0          20.0          10.0   \n",
      "2013-06-17    110.0    130.0    120.0          20.0          10.0   \n",
      "2013-06-18    110.0    120.0    115.0          10.0           5.0   \n",
      "2013-06-19    110.0    120.0    115.0          10.0           5.0   \n",
      "2013-06-20    110.0    120.0    115.0          10.0           5.0   \n",
      "\n",
      "            Max_Avg_Diff      Commodity  Lag_1  Lag_2  Lag_3  \n",
      "Date                                                          \n",
      "2013-06-16          10.0  Apple(Jholey)    NaN    NaN    NaN  \n",
      "2013-06-17          10.0  Apple(Jholey)  110.0    NaN    NaN  \n",
      "2013-06-18           5.0  Apple(Jholey)  120.0  110.0    NaN  \n",
      "2013-06-19           5.0  Apple(Jholey)  115.0  120.0  110.0  \n",
      "2013-06-20           5.0  Apple(Jholey)  115.0  115.0  120.0  \n"
     ]
    }
   ],
   "source": [
    "# Create lag features for 'Average' price for each commodity\n",
    "for commodity in commodities:\n",
    "    df_final.loc[df_final['Commodity'] == commodity, 'Lag_1'] = df_final[df_final['Commodity'] == commodity]['Average'].shift(1)\n",
    "    df_final.loc[df_final['Commodity'] == commodity, 'Lag_2'] = df_final[df_final['Commodity'] == commodity]['Average'].shift(2)\n",
    "    df_final.loc[df_final['Commodity'] == commodity, 'Lag_3'] = df_final[df_final['Commodity'] == commodity]['Average'].shift(3)\n",
    "\n",
    "print(df_final.head(5))\n"
   ]
  },
  {
   "cell_type": "code",
   "execution_count": 25,
   "metadata": {},
   "outputs": [
    {
     "name": "stdout",
     "output_type": "stream",
     "text": [
      "            Minimum  Maximum  Average  Max_Min_Diff  Avg_Min_Diff  \\\n",
      "Date                                                                \n",
      "2013-06-16    100.0    120.0    110.0          20.0          10.0   \n",
      "2013-06-17    110.0    130.0    120.0          20.0          10.0   \n",
      "2013-06-18    110.0    120.0    115.0          10.0           5.0   \n",
      "2013-06-19    110.0    120.0    115.0          10.0           5.0   \n",
      "2013-06-20    110.0    120.0    115.0          10.0           5.0   \n",
      "\n",
      "            Max_Avg_Diff      Commodity  Lag_1  Lag_2  Lag_3  Rolling_Mean_7  \\\n",
      "Date                                                                           \n",
      "2013-06-16          10.0  Apple(Jholey)    NaN    NaN    NaN             NaN   \n",
      "2013-06-17          10.0  Apple(Jholey)  110.0    NaN    NaN             NaN   \n",
      "2013-06-18           5.0  Apple(Jholey)  120.0  110.0    NaN             NaN   \n",
      "2013-06-19           5.0  Apple(Jholey)  115.0  120.0  110.0             NaN   \n",
      "2013-06-20           5.0  Apple(Jholey)  115.0  115.0  120.0             NaN   \n",
      "\n",
      "            Rolling_Std_7  \n",
      "Date                       \n",
      "2013-06-16            NaN  \n",
      "2013-06-17            NaN  \n",
      "2013-06-18            NaN  \n",
      "2013-06-19            NaN  \n",
      "2013-06-20            NaN  \n"
     ]
    }
   ],
   "source": [
    "# Calculate rolling statistics for 'Average' price for each commodity\n",
    "for commodity in commodities:\n",
    "    df_final.loc[df_final['Commodity'] == commodity, 'Rolling_Mean_7'] = df_final[df_final['Commodity'] == commodity]['Average'].rolling(window=7).mean()\n",
    "    df_final.loc[df_final['Commodity'] == commodity, 'Rolling_Std_7'] = df_final[df_final['Commodity'] == commodity]['Average'].rolling(window=7).std()\n",
    "\n",
    "print(df_final.head(5))\n"
   ]
  },
  {
   "cell_type": "code",
   "execution_count": 26,
   "metadata": {},
   "outputs": [],
   "source": [
    "df_final = df_final.dropna()"
   ]
  },
  {
   "cell_type": "code",
   "execution_count": 27,
   "metadata": {},
   "outputs": [
    {
     "name": "stdout",
     "output_type": "stream",
     "text": [
      "             Minimum   Maximum   Average  Max_Min_Diff  Avg_Min_Diff  \\\n",
      "Date                                                                   \n",
      "2013-10-12  0.089027  0.089692  0.088435      0.018215      0.018215   \n",
      "2013-10-13  0.089027  0.089692  0.088435      0.018215      0.018215   \n",
      "2013-10-14  0.089027  0.089692  0.088435      0.018215      0.018215   \n",
      "2013-10-15  0.082126  0.089692  0.085034      0.036430      0.036430   \n",
      "2013-10-16  0.089027  0.089692  0.088435      0.018215      0.018215   \n",
      "\n",
      "            Max_Avg_Diff     Lag_1     Lag_2     Lag_3  Rolling_Mean_7  \\\n",
      "Date                                                                     \n",
      "2013-10-12      0.018215  0.088435  0.071429  0.074830        0.081411   \n",
      "2013-10-13      0.018215  0.088435  0.088435  0.071429        0.083430   \n",
      "2013-10-14      0.018215  0.088435  0.088435  0.088435        0.085449   \n",
      "2013-10-15      0.036430  0.088435  0.088435  0.088435        0.085954   \n",
      "2013-10-16      0.018215  0.085034  0.088435  0.088435        0.087973   \n",
      "\n",
      "            Rolling_Std_7      Commodity  \n",
      "Date                                      \n",
      "2013-10-12       0.016017  Apple(Jholey)  \n",
      "2013-10-13       0.017063  Apple(Jholey)  \n",
      "2013-10-14       0.016721  Apple(Jholey)  \n",
      "2013-10-15       0.016721  Apple(Jholey)  \n",
      "2013-10-16       0.014506  Apple(Jholey)  \n"
     ]
    }
   ],
   "source": [
    "from sklearn.preprocessing import MinMaxScaler\n",
    "\n",
    "# Select numeric columns for scaling\n",
    "numeric_cols = df_final.select_dtypes(include=['float64', 'int64']).columns\n",
    "\n",
    "# Apply MinMaxScaler\n",
    "scaler = MinMaxScaler()\n",
    "df_scaled_numeric = pd.DataFrame(scaler.fit_transform(df_final[numeric_cols]), columns=numeric_cols, index=df_final.index)\n",
    "\n",
    "# Combine scaled numeric data with the non-numeric data\n",
    "df_scaled = pd.concat([df_scaled_numeric, df_final.drop(columns=numeric_cols)], axis=1)\n",
    "\n",
    "# Print the first few rows to verify\n",
    "print(df_scaled.head(5))\n"
   ]
  },
  {
   "cell_type": "markdown",
   "metadata": {},
   "source": [
    "Time Series Plot"
   ]
  },
  {
   "cell_type": "code",
   "execution_count": 28,
   "metadata": {},
   "outputs": [],
   "source": [
    "# import matplotlib.pyplot as plt\n",
    "\n",
    "# # Plot the time series of the 'Average' price for each commodity\n",
    "# commodities = df_final['Commodity'].unique()\n",
    "\n",
    "# for commodity in commodities:\n",
    "#     df_commodity = df_final[df_final['Commodity'] == commodity]\n",
    "#     plt.figure(figsize=(12, 6))\n",
    "#     plt.plot(df_commodity.index, df_commodity['Average'], label=f'Average Price - {commodity}', color='blue')\n",
    "#     plt.xlabel('Date')\n",
    "#     plt.ylabel('Average Price')\n",
    "#     plt.title(f'Average Price Over Time - {commodity}')\n",
    "#     plt.legend()\n",
    "#     plt.grid(True)\n",
    "#     plt.show()\n",
    "\n"
   ]
  },
  {
   "cell_type": "code",
   "execution_count": 29,
   "metadata": {},
   "outputs": [
    {
     "name": "stdout",
     "output_type": "stream",
     "text": [
      "Index(['Minimum', 'Maximum', 'Average', 'Max_Min_Diff', 'Avg_Min_Diff',\n",
      "       'Max_Avg_Diff', 'Commodity', 'Lag_1', 'Lag_2', 'Lag_3',\n",
      "       'Rolling_Mean_7', 'Rolling_Std_7'],\n",
      "      dtype='object')\n"
     ]
    }
   ],
   "source": [
    "print(df_final.columns)\n"
   ]
  },
  {
   "cell_type": "code",
   "execution_count": 38,
   "metadata": {},
   "outputs": [
    {
     "name": "stdout",
     "output_type": "stream",
     "text": [
      "Train shape: (94857, 12)\n",
      "Validation shape: (5292, 12)\n"
     ]
    }
   ],
   "source": [
    "# Split the data\n",
    "train = df_final.loc[df_final.index < \"2019-01-01\"]\n",
    "val = df_final.loc[(df_final.index >= \"2019-01-01\") & (df_final.index < \"2019-04-01\")]\n",
    "\n",
    "print(f\"Train shape: {train.shape}\")\n",
    "print(f\"Validation shape: {val.shape}\")"
   ]
  },
  {
   "cell_type": "code",
   "execution_count": 39,
   "metadata": {},
   "outputs": [
    {
     "data": {
      "text/plain": [
       "((94857,), (94857, 11), (5292,), (5292, 11))"
      ]
     },
     "execution_count": 39,
     "metadata": {},
     "output_type": "execute_result"
    }
   ],
   "source": [
    "target_col = 'Average' \n",
    "X_train = train.drop(columns=[target_col])\n",
    "y_train = train[target_col]\n",
    "X_val = val.drop(columns=[target_col])\n",
    "y_val = val[target_col]\n",
    "\n",
    "y_train.shape, X_train.shape, y_val.shape, X_val.shape"
   ]
  },
  {
   "cell_type": "code",
   "execution_count": 32,
   "metadata": {},
   "outputs": [
    {
     "data": {
      "text/html": [
       "<div>\n",
       "<style scoped>\n",
       "    .dataframe tbody tr th:only-of-type {\n",
       "        vertical-align: middle;\n",
       "    }\n",
       "\n",
       "    .dataframe tbody tr th {\n",
       "        vertical-align: top;\n",
       "    }\n",
       "\n",
       "    .dataframe thead th {\n",
       "        text-align: right;\n",
       "    }\n",
       "</style>\n",
       "<table border=\"1\" class=\"dataframe\">\n",
       "  <thead>\n",
       "    <tr style=\"text-align: right;\">\n",
       "      <th></th>\n",
       "      <th>Minimum</th>\n",
       "      <th>Maximum</th>\n",
       "      <th>Average</th>\n",
       "      <th>Max_Min_Diff</th>\n",
       "      <th>Avg_Min_Diff</th>\n",
       "      <th>Max_Avg_Diff</th>\n",
       "      <th>Commodity</th>\n",
       "      <th>Lag_1</th>\n",
       "      <th>Lag_2</th>\n",
       "      <th>Lag_3</th>\n",
       "      <th>Rolling_Mean_7</th>\n",
       "      <th>Rolling_Std_7</th>\n",
       "    </tr>\n",
       "    <tr>\n",
       "      <th>Date</th>\n",
       "      <th></th>\n",
       "      <th></th>\n",
       "      <th></th>\n",
       "      <th></th>\n",
       "      <th></th>\n",
       "      <th></th>\n",
       "      <th></th>\n",
       "      <th></th>\n",
       "      <th></th>\n",
       "      <th></th>\n",
       "      <th></th>\n",
       "      <th></th>\n",
       "    </tr>\n",
       "  </thead>\n",
       "  <tbody>\n",
       "    <tr>\n",
       "      <th>2013-10-12</th>\n",
       "      <td>130.0</td>\n",
       "      <td>140.0</td>\n",
       "      <td>135.0</td>\n",
       "      <td>10.0</td>\n",
       "      <td>5.0</td>\n",
       "      <td>5.0</td>\n",
       "      <td>Apple(Jholey)</td>\n",
       "      <td>135.0</td>\n",
       "      <td>110.0</td>\n",
       "      <td>115.0</td>\n",
       "      <td>121.428571</td>\n",
       "      <td>10.293317</td>\n",
       "    </tr>\n",
       "    <tr>\n",
       "      <th>2013-10-13</th>\n",
       "      <td>130.0</td>\n",
       "      <td>140.0</td>\n",
       "      <td>135.0</td>\n",
       "      <td>10.0</td>\n",
       "      <td>5.0</td>\n",
       "      <td>5.0</td>\n",
       "      <td>Apple(Jholey)</td>\n",
       "      <td>135.0</td>\n",
       "      <td>135.0</td>\n",
       "      <td>110.0</td>\n",
       "      <td>124.285714</td>\n",
       "      <td>10.965313</td>\n",
       "    </tr>\n",
       "    <tr>\n",
       "      <th>2013-10-14</th>\n",
       "      <td>130.0</td>\n",
       "      <td>140.0</td>\n",
       "      <td>135.0</td>\n",
       "      <td>10.0</td>\n",
       "      <td>5.0</td>\n",
       "      <td>5.0</td>\n",
       "      <td>Apple(Jholey)</td>\n",
       "      <td>135.0</td>\n",
       "      <td>135.0</td>\n",
       "      <td>135.0</td>\n",
       "      <td>127.142857</td>\n",
       "      <td>10.745985</td>\n",
       "    </tr>\n",
       "    <tr>\n",
       "      <th>2013-10-15</th>\n",
       "      <td>120.0</td>\n",
       "      <td>140.0</td>\n",
       "      <td>130.0</td>\n",
       "      <td>20.0</td>\n",
       "      <td>10.0</td>\n",
       "      <td>10.0</td>\n",
       "      <td>Apple(Jholey)</td>\n",
       "      <td>135.0</td>\n",
       "      <td>135.0</td>\n",
       "      <td>135.0</td>\n",
       "      <td>127.857143</td>\n",
       "      <td>10.745985</td>\n",
       "    </tr>\n",
       "    <tr>\n",
       "      <th>2013-10-16</th>\n",
       "      <td>130.0</td>\n",
       "      <td>140.0</td>\n",
       "      <td>135.0</td>\n",
       "      <td>10.0</td>\n",
       "      <td>5.0</td>\n",
       "      <td>5.0</td>\n",
       "      <td>Apple(Jholey)</td>\n",
       "      <td>130.0</td>\n",
       "      <td>135.0</td>\n",
       "      <td>135.0</td>\n",
       "      <td>130.714286</td>\n",
       "      <td>9.322272</td>\n",
       "    </tr>\n",
       "  </tbody>\n",
       "</table>\n",
       "</div>"
      ],
      "text/plain": [
       "            Minimum  Maximum  Average  Max_Min_Diff  Avg_Min_Diff  \\\n",
       "Date                                                                \n",
       "2013-10-12    130.0    140.0    135.0          10.0           5.0   \n",
       "2013-10-13    130.0    140.0    135.0          10.0           5.0   \n",
       "2013-10-14    130.0    140.0    135.0          10.0           5.0   \n",
       "2013-10-15    120.0    140.0    130.0          20.0          10.0   \n",
       "2013-10-16    130.0    140.0    135.0          10.0           5.0   \n",
       "\n",
       "            Max_Avg_Diff      Commodity  Lag_1  Lag_2  Lag_3  Rolling_Mean_7  \\\n",
       "Date                                                                           \n",
       "2013-10-12           5.0  Apple(Jholey)  135.0  110.0  115.0      121.428571   \n",
       "2013-10-13           5.0  Apple(Jholey)  135.0  135.0  110.0      124.285714   \n",
       "2013-10-14           5.0  Apple(Jholey)  135.0  135.0  135.0      127.142857   \n",
       "2013-10-15          10.0  Apple(Jholey)  135.0  135.0  135.0      127.857143   \n",
       "2013-10-16           5.0  Apple(Jholey)  130.0  135.0  135.0      130.714286   \n",
       "\n",
       "            Rolling_Std_7  \n",
       "Date                       \n",
       "2013-10-12      10.293317  \n",
       "2013-10-13      10.965313  \n",
       "2013-10-14      10.745985  \n",
       "2013-10-15      10.745985  \n",
       "2013-10-16       9.322272  "
      ]
     },
     "execution_count": 32,
     "metadata": {},
     "output_type": "execute_result"
    }
   ],
   "source": [
    "train.head(5)"
   ]
  },
  {
   "cell_type": "code",
   "execution_count": 33,
   "metadata": {},
   "outputs": [],
   "source": [
    "# light bgm model\n",
    "import lightgbm as lgb\n",
    "import shap\n",
    "from sklearn.model_selection import TimeSeriesSplit, GridSearchCV, RandomizedSearchCV\n",
    "from sklearn.metrics import make_scorer\n",
    "from lightgbm import LGBMRegressor"
   ]
  },
  {
   "cell_type": "code",
   "execution_count": 34,
   "metadata": {},
   "outputs": [],
   "source": [
    "from sklearn.metrics import (\n",
    "    mean_squared_error,\n",
    "    mean_absolute_error,\n",
    "    r2_score,\n",
    "    mean_absolute_percentage_error,\n",
    ")"
   ]
  },
  {
   "cell_type": "code",
   "execution_count": 35,
   "metadata": {},
   "outputs": [],
   "source": [
    "def smape(preds, target):\n",
    "    n = len(preds)\n",
    "    masked_arr = ~((preds == 0) & (target == 0))\n",
    "    preds, target = preds[masked_arr], target[masked_arr]\n",
    "    num = np.abs(preds - target)\n",
    "    denom = np.abs(preds) + np.abs(target)\n",
    "    smape_val = (200 * np.sum(num / denom)) / n\n",
    "    return smape_val\n",
    "\n",
    "# Calculating SMAPE for LightGBM output:\n",
    "def lgbm_smape(preds, train_data):\n",
    "    labels = train_data.get_label()\n",
    "    smape_val = smape(np.expm1(preds), np.expm1(labels))\n",
    "    return \"SMAPE\", smape_val, False"
   ]
  },
  {
   "cell_type": "code",
   "execution_count": 36,
   "metadata": {},
   "outputs": [
    {
     "data": {
      "text/html": [
       "<div>\n",
       "<style scoped>\n",
       "    .dataframe tbody tr th:only-of-type {\n",
       "        vertical-align: middle;\n",
       "    }\n",
       "\n",
       "    .dataframe tbody tr th {\n",
       "        vertical-align: top;\n",
       "    }\n",
       "\n",
       "    .dataframe thead th {\n",
       "        text-align: right;\n",
       "    }\n",
       "</style>\n",
       "<table border=\"1\" class=\"dataframe\">\n",
       "  <thead>\n",
       "    <tr style=\"text-align: right;\">\n",
       "      <th></th>\n",
       "      <th>Minimum</th>\n",
       "      <th>Maximum</th>\n",
       "      <th>Average</th>\n",
       "      <th>Max_Min_Diff</th>\n",
       "      <th>Avg_Min_Diff</th>\n",
       "      <th>Max_Avg_Diff</th>\n",
       "      <th>Commodity</th>\n",
       "      <th>Lag_1</th>\n",
       "      <th>Lag_2</th>\n",
       "      <th>Lag_3</th>\n",
       "      <th>Rolling_Mean_7</th>\n",
       "      <th>Rolling_Std_7</th>\n",
       "    </tr>\n",
       "    <tr>\n",
       "      <th>Date</th>\n",
       "      <th></th>\n",
       "      <th></th>\n",
       "      <th></th>\n",
       "      <th></th>\n",
       "      <th></th>\n",
       "      <th></th>\n",
       "      <th></th>\n",
       "      <th></th>\n",
       "      <th></th>\n",
       "      <th></th>\n",
       "      <th></th>\n",
       "      <th></th>\n",
       "    </tr>\n",
       "  </thead>\n",
       "  <tbody>\n",
       "    <tr>\n",
       "      <th>2013-10-12</th>\n",
       "      <td>130.0</td>\n",
       "      <td>140.0</td>\n",
       "      <td>135.0</td>\n",
       "      <td>10.0</td>\n",
       "      <td>5.0</td>\n",
       "      <td>5.0</td>\n",
       "      <td>Apple(Jholey)</td>\n",
       "      <td>135.0</td>\n",
       "      <td>110.0</td>\n",
       "      <td>115.0</td>\n",
       "      <td>121.428571</td>\n",
       "      <td>10.293317</td>\n",
       "    </tr>\n",
       "    <tr>\n",
       "      <th>2013-10-13</th>\n",
       "      <td>130.0</td>\n",
       "      <td>140.0</td>\n",
       "      <td>135.0</td>\n",
       "      <td>10.0</td>\n",
       "      <td>5.0</td>\n",
       "      <td>5.0</td>\n",
       "      <td>Apple(Jholey)</td>\n",
       "      <td>135.0</td>\n",
       "      <td>135.0</td>\n",
       "      <td>110.0</td>\n",
       "      <td>124.285714</td>\n",
       "      <td>10.965313</td>\n",
       "    </tr>\n",
       "    <tr>\n",
       "      <th>2013-10-14</th>\n",
       "      <td>130.0</td>\n",
       "      <td>140.0</td>\n",
       "      <td>135.0</td>\n",
       "      <td>10.0</td>\n",
       "      <td>5.0</td>\n",
       "      <td>5.0</td>\n",
       "      <td>Apple(Jholey)</td>\n",
       "      <td>135.0</td>\n",
       "      <td>135.0</td>\n",
       "      <td>135.0</td>\n",
       "      <td>127.142857</td>\n",
       "      <td>10.745985</td>\n",
       "    </tr>\n",
       "    <tr>\n",
       "      <th>2013-10-15</th>\n",
       "      <td>120.0</td>\n",
       "      <td>140.0</td>\n",
       "      <td>130.0</td>\n",
       "      <td>20.0</td>\n",
       "      <td>10.0</td>\n",
       "      <td>10.0</td>\n",
       "      <td>Apple(Jholey)</td>\n",
       "      <td>135.0</td>\n",
       "      <td>135.0</td>\n",
       "      <td>135.0</td>\n",
       "      <td>127.857143</td>\n",
       "      <td>10.745985</td>\n",
       "    </tr>\n",
       "    <tr>\n",
       "      <th>2013-10-16</th>\n",
       "      <td>130.0</td>\n",
       "      <td>140.0</td>\n",
       "      <td>135.0</td>\n",
       "      <td>10.0</td>\n",
       "      <td>5.0</td>\n",
       "      <td>5.0</td>\n",
       "      <td>Apple(Jholey)</td>\n",
       "      <td>130.0</td>\n",
       "      <td>135.0</td>\n",
       "      <td>135.0</td>\n",
       "      <td>130.714286</td>\n",
       "      <td>9.322272</td>\n",
       "    </tr>\n",
       "  </tbody>\n",
       "</table>\n",
       "</div>"
      ],
      "text/plain": [
       "            Minimum  Maximum  Average  Max_Min_Diff  Avg_Min_Diff  \\\n",
       "Date                                                                \n",
       "2013-10-12    130.0    140.0    135.0          10.0           5.0   \n",
       "2013-10-13    130.0    140.0    135.0          10.0           5.0   \n",
       "2013-10-14    130.0    140.0    135.0          10.0           5.0   \n",
       "2013-10-15    120.0    140.0    130.0          20.0          10.0   \n",
       "2013-10-16    130.0    140.0    135.0          10.0           5.0   \n",
       "\n",
       "            Max_Avg_Diff      Commodity  Lag_1  Lag_2  Lag_3  Rolling_Mean_7  \\\n",
       "Date                                                                           \n",
       "2013-10-12           5.0  Apple(Jholey)  135.0  110.0  115.0      121.428571   \n",
       "2013-10-13           5.0  Apple(Jholey)  135.0  135.0  110.0      124.285714   \n",
       "2013-10-14           5.0  Apple(Jholey)  135.0  135.0  135.0      127.142857   \n",
       "2013-10-15          10.0  Apple(Jholey)  135.0  135.0  135.0      127.857143   \n",
       "2013-10-16           5.0  Apple(Jholey)  130.0  135.0  135.0      130.714286   \n",
       "\n",
       "            Rolling_Std_7  \n",
       "Date                       \n",
       "2013-10-12      10.293317  \n",
       "2013-10-13      10.965313  \n",
       "2013-10-14      10.745985  \n",
       "2013-10-15      10.745985  \n",
       "2013-10-16       9.322272  "
      ]
     },
     "execution_count": 36,
     "metadata": {},
     "output_type": "execute_result"
    }
   ],
   "source": [
    "df_final.head(5)"
   ]
  },
  {
   "cell_type": "code",
   "execution_count": 37,
   "metadata": {},
   "outputs": [],
   "source": [
    "from sklearn.preprocessing import LabelEncoder\n",
    "\n",
    "# Encode the 'Commodity' column\n",
    "le = LabelEncoder()\n",
    "df_final['Commodity'] = le.fit_transform(df_final['Commodity'])\n",
    "\n",
    "# Prepare your training and validation data\n",
    "X_train = train.drop(columns=['Average'])  # Drop target variable from features\n",
    "y_train = train['Average']\n",
    "\n",
    "X_val = val.drop(columns=['Average'])\n",
    "y_val = val['Average']\n"
   ]
  },
  {
   "cell_type": "code",
   "execution_count": 40,
   "metadata": {},
   "outputs": [
    {
     "data": {
      "text/html": [
       "<div>\n",
       "<style scoped>\n",
       "    .dataframe tbody tr th:only-of-type {\n",
       "        vertical-align: middle;\n",
       "    }\n",
       "\n",
       "    .dataframe tbody tr th {\n",
       "        vertical-align: top;\n",
       "    }\n",
       "\n",
       "    .dataframe thead th {\n",
       "        text-align: right;\n",
       "    }\n",
       "</style>\n",
       "<table border=\"1\" class=\"dataframe\">\n",
       "  <thead>\n",
       "    <tr style=\"text-align: right;\">\n",
       "      <th></th>\n",
       "      <th>Minimum</th>\n",
       "      <th>Maximum</th>\n",
       "      <th>Average</th>\n",
       "      <th>Max_Min_Diff</th>\n",
       "      <th>Avg_Min_Diff</th>\n",
       "      <th>Max_Avg_Diff</th>\n",
       "      <th>Commodity</th>\n",
       "      <th>Lag_1</th>\n",
       "      <th>Lag_2</th>\n",
       "      <th>Lag_3</th>\n",
       "      <th>Rolling_Mean_7</th>\n",
       "      <th>Rolling_Std_7</th>\n",
       "    </tr>\n",
       "    <tr>\n",
       "      <th>Date</th>\n",
       "      <th></th>\n",
       "      <th></th>\n",
       "      <th></th>\n",
       "      <th></th>\n",
       "      <th></th>\n",
       "      <th></th>\n",
       "      <th></th>\n",
       "      <th></th>\n",
       "      <th></th>\n",
       "      <th></th>\n",
       "      <th></th>\n",
       "      <th></th>\n",
       "    </tr>\n",
       "  </thead>\n",
       "  <tbody>\n",
       "    <tr>\n",
       "      <th>2021-05-09</th>\n",
       "      <td>120.0</td>\n",
       "      <td>130.0</td>\n",
       "      <td>125.0</td>\n",
       "      <td>10.0</td>\n",
       "      <td>5.0</td>\n",
       "      <td>5.0</td>\n",
       "      <td>69</td>\n",
       "      <td>130.0</td>\n",
       "      <td>125.0</td>\n",
       "      <td>125.0</td>\n",
       "      <td>126.428571</td>\n",
       "      <td>2.439750</td>\n",
       "    </tr>\n",
       "    <tr>\n",
       "      <th>2021-05-10</th>\n",
       "      <td>140.0</td>\n",
       "      <td>150.0</td>\n",
       "      <td>145.0</td>\n",
       "      <td>10.0</td>\n",
       "      <td>5.0</td>\n",
       "      <td>5.0</td>\n",
       "      <td>69</td>\n",
       "      <td>125.0</td>\n",
       "      <td>130.0</td>\n",
       "      <td>125.0</td>\n",
       "      <td>128.571429</td>\n",
       "      <td>7.480132</td>\n",
       "    </tr>\n",
       "    <tr>\n",
       "      <th>2021-05-11</th>\n",
       "      <td>140.0</td>\n",
       "      <td>150.0</td>\n",
       "      <td>145.0</td>\n",
       "      <td>10.0</td>\n",
       "      <td>5.0</td>\n",
       "      <td>5.0</td>\n",
       "      <td>69</td>\n",
       "      <td>145.0</td>\n",
       "      <td>125.0</td>\n",
       "      <td>130.0</td>\n",
       "      <td>131.428571</td>\n",
       "      <td>9.449112</td>\n",
       "    </tr>\n",
       "    <tr>\n",
       "      <th>2021-05-12</th>\n",
       "      <td>140.0</td>\n",
       "      <td>150.0</td>\n",
       "      <td>145.0</td>\n",
       "      <td>10.0</td>\n",
       "      <td>5.0</td>\n",
       "      <td>5.0</td>\n",
       "      <td>69</td>\n",
       "      <td>145.0</td>\n",
       "      <td>145.0</td>\n",
       "      <td>125.0</td>\n",
       "      <td>134.285714</td>\n",
       "      <td>10.177005</td>\n",
       "    </tr>\n",
       "    <tr>\n",
       "      <th>2021-05-13</th>\n",
       "      <td>140.0</td>\n",
       "      <td>150.0</td>\n",
       "      <td>145.0</td>\n",
       "      <td>10.0</td>\n",
       "      <td>5.0</td>\n",
       "      <td>5.0</td>\n",
       "      <td>69</td>\n",
       "      <td>145.0</td>\n",
       "      <td>145.0</td>\n",
       "      <td>145.0</td>\n",
       "      <td>137.142857</td>\n",
       "      <td>9.940298</td>\n",
       "    </tr>\n",
       "  </tbody>\n",
       "</table>\n",
       "</div>"
      ],
      "text/plain": [
       "            Minimum  Maximum  Average  Max_Min_Diff  Avg_Min_Diff  \\\n",
       "Date                                                                \n",
       "2021-05-09    120.0    130.0    125.0          10.0           5.0   \n",
       "2021-05-10    140.0    150.0    145.0          10.0           5.0   \n",
       "2021-05-11    140.0    150.0    145.0          10.0           5.0   \n",
       "2021-05-12    140.0    150.0    145.0          10.0           5.0   \n",
       "2021-05-13    140.0    150.0    145.0          10.0           5.0   \n",
       "\n",
       "            Max_Avg_Diff  Commodity  Lag_1  Lag_2  Lag_3  Rolling_Mean_7  \\\n",
       "Date                                                                       \n",
       "2021-05-09           5.0         69  130.0  125.0  125.0      126.428571   \n",
       "2021-05-10           5.0         69  125.0  130.0  125.0      128.571429   \n",
       "2021-05-11           5.0         69  145.0  125.0  130.0      131.428571   \n",
       "2021-05-12           5.0         69  145.0  145.0  125.0      134.285714   \n",
       "2021-05-13           5.0         69  145.0  145.0  145.0      137.142857   \n",
       "\n",
       "            Rolling_Std_7  \n",
       "Date                       \n",
       "2021-05-09       2.439750  \n",
       "2021-05-10       7.480132  \n",
       "2021-05-11       9.449112  \n",
       "2021-05-12      10.177005  \n",
       "2021-05-13       9.940298  "
      ]
     },
     "execution_count": 40,
     "metadata": {},
     "output_type": "execute_result"
    }
   ],
   "source": [
    "df_final.tail(5)"
   ]
  },
  {
   "cell_type": "code",
   "execution_count": 38,
   "metadata": {},
   "outputs": [
    {
     "name": "stdout",
     "output_type": "stream",
     "text": [
      "[LightGBM] [Info] Auto-choosing col-wise multi-threading, the overhead of testing was 0.004681 seconds.\n",
      "You can set `force_col_wise=true` to remove the overhead.\n",
      "[LightGBM] [Info] Total Bins 1482\n",
      "[LightGBM] [Info] Number of data points in the train set: 94857, number of used features: 11\n",
      "[LightGBM] [Info] Start training from score 84.962791\n",
      "TRAIN SMAPE: 0.07713704611754998\n",
      "VALID SMAPE: 0.07505150299870464\n",
      "MAE: 0.08980624911950752\n",
      "RMSE: 9.431985121397226\n",
      "R2 Score: 0.998367335714657\n"
     ]
    }
   ],
   "source": [
    "# lgbm in without any parameters\n",
    "first_model = lgb.LGBMRegressor().fit(X_train, y_train)\n",
    "\n",
    "print(\"TRAIN SMAPE:\", smape(y_train, first_model.predict(X_train)))\n",
    "print(\"VALID SMAPE:\", smape(y_val, first_model.predict(X_val)))\n",
    "pred = first_model.predict(X_train)\n",
    "print(\"MAE:\", mean_absolute_error(y_train, pred))\n",
    "print(\"RMSE:\", mean_squared_error(y_train, pred))\n",
    "print(\"R2 Score:\", r2_score(y_train, pred))"
   ]
  },
  {
   "cell_type": "code",
   "execution_count": 41,
   "metadata": {},
   "outputs": [],
   "source": [
    "from keras.layers import Dense, LSTM, Dropout, GRU, Bidirectional\n",
    "from keras.optimizers import SGD\n",
    "import math"
   ]
  },
  {
   "cell_type": "code",
   "execution_count": 42,
   "metadata": {},
   "outputs": [],
   "source": [
    "# Feature scaling\n",
    "sc = MinMaxScaler(feature_range=(0, 1))\n",
    "train_scaled = sc.fit_transform(train['Average'].values.reshape(-1, 1))\n",
    "val_scaled = sc.transform(val['Average'].values.reshape(-1, 1))"
   ]
  },
  {
   "cell_type": "code",
   "execution_count": 43,
   "metadata": {},
   "outputs": [],
   "source": [
    "# Creating training data with 60 timesteps\n",
    "X_train = []\n",
    "y_train = []\n",
    "for i in range(60, len(train_scaled)):\n",
    "    X_train.append(train_scaled[i-60:i, 0])\n",
    "    y_train.append(train_scaled[i, 0])\n",
    "\n",
    "X_train, y_train = np.array(X_train), np.array(y_train)\n",
    "X_train = np.reshape(X_train, (X_train.shape[0], X_train.shape[1], 1))"
   ]
  },
  {
   "cell_type": "code",
   "execution_count": 50,
   "metadata": {},
   "outputs": [
    {
     "name": "stderr",
     "output_type": "stream",
     "text": [
      "c:\\Users\\User\\OneDrive\\Desktop\\Market-Demand-Prediction\\venv\\Lib\\site-packages\\keras\\src\\layers\\rnn\\rnn.py:204: UserWarning: Do not pass an `input_shape`/`input_dim` argument to a layer. When using Sequential models, prefer using an `Input(shape)` object as the first layer in the model instead.\n",
      "  super().__init__(**kwargs)\n"
     ]
    },
    {
     "name": "stdout",
     "output_type": "stream",
     "text": [
      "Epoch 1/50\n",
      "\u001b[1m2963/2963\u001b[0m \u001b[32m━━━━━━━━━━━━━━━━━━━━\u001b[0m\u001b[37m\u001b[0m \u001b[1m225s\u001b[0m 74ms/step - loss: 5.7695e-04\n",
      "Epoch 2/50\n",
      "\u001b[1m2963/2963\u001b[0m \u001b[32m━━━━━━━━━━━━━━━━━━━━\u001b[0m\u001b[37m\u001b[0m \u001b[1m239s\u001b[0m 80ms/step - loss: 2.5713e-04\n",
      "Epoch 3/50\n",
      "\u001b[1m2963/2963\u001b[0m \u001b[32m━━━━━━━━━━━━━━━━━━━━\u001b[0m\u001b[37m\u001b[0m \u001b[1m291s\u001b[0m 98ms/step - loss: 2.2752e-04\n",
      "Epoch 4/50\n",
      "\u001b[1m2963/2963\u001b[0m \u001b[32m━━━━━━━━━━━━━━━━━━━━\u001b[0m\u001b[37m\u001b[0m \u001b[1m313s\u001b[0m 106ms/step - loss: 2.2167e-04\n",
      "Epoch 5/50\n",
      "\u001b[1m2963/2963\u001b[0m \u001b[32m━━━━━━━━━━━━━━━━━━━━\u001b[0m\u001b[37m\u001b[0m \u001b[1m245s\u001b[0m 83ms/step - loss: 2.1106e-04\n",
      "Epoch 6/50\n",
      "\u001b[1m2963/2963\u001b[0m \u001b[32m━━━━━━━━━━━━━━━━━━━━\u001b[0m\u001b[37m\u001b[0m \u001b[1m250s\u001b[0m 84ms/step - loss: 1.9807e-04\n",
      "Epoch 7/50\n",
      "\u001b[1m2963/2963\u001b[0m \u001b[32m━━━━━━━━━━━━━━━━━━━━\u001b[0m\u001b[37m\u001b[0m \u001b[1m214s\u001b[0m 72ms/step - loss: 2.0903e-04\n",
      "Epoch 8/50\n",
      "\u001b[1m2963/2963\u001b[0m \u001b[32m━━━━━━━━━━━━━━━━━━━━\u001b[0m\u001b[37m\u001b[0m \u001b[1m236s\u001b[0m 80ms/step - loss: 1.8272e-04\n",
      "Epoch 9/50\n",
      "\u001b[1m2963/2963\u001b[0m \u001b[32m━━━━━━━━━━━━━━━━━━━━\u001b[0m\u001b[37m\u001b[0m \u001b[1m221s\u001b[0m 75ms/step - loss: 1.6909e-04\n",
      "Epoch 10/50\n",
      "\u001b[1m2963/2963\u001b[0m \u001b[32m━━━━━━━━━━━━━━━━━━━━\u001b[0m\u001b[37m\u001b[0m \u001b[1m228s\u001b[0m 77ms/step - loss: 1.6672e-04\n",
      "Epoch 11/50\n",
      "\u001b[1m2963/2963\u001b[0m \u001b[32m━━━━━━━━━━━━━━━━━━━━\u001b[0m\u001b[37m\u001b[0m \u001b[1m209s\u001b[0m 71ms/step - loss: 1.6352e-04\n",
      "Epoch 12/50\n",
      "\u001b[1m2963/2963\u001b[0m \u001b[32m━━━━━━━━━━━━━━━━━━━━\u001b[0m\u001b[37m\u001b[0m \u001b[1m206s\u001b[0m 69ms/step - loss: 1.5855e-04\n",
      "Epoch 13/50\n",
      "\u001b[1m2963/2963\u001b[0m \u001b[32m━━━━━━━━━━━━━━━━━━━━\u001b[0m\u001b[37m\u001b[0m \u001b[1m205s\u001b[0m 69ms/step - loss: 1.5489e-04\n",
      "Epoch 14/50\n",
      "\u001b[1m2963/2963\u001b[0m \u001b[32m━━━━━━━━━━━━━━━━━━━━\u001b[0m\u001b[37m\u001b[0m \u001b[1m206s\u001b[0m 70ms/step - loss: 1.5229e-04\n",
      "Epoch 15/50\n",
      "\u001b[1m2963/2963\u001b[0m \u001b[32m━━━━━━━━━━━━━━━━━━━━\u001b[0m\u001b[37m\u001b[0m \u001b[1m357s\u001b[0m 121ms/step - loss: 1.4452e-04\n",
      "Epoch 16/50\n",
      "\u001b[1m2963/2963\u001b[0m \u001b[32m━━━━━━━━━━━━━━━━━━━━\u001b[0m\u001b[37m\u001b[0m \u001b[1m385s\u001b[0m 130ms/step - loss: 1.3857e-04\n",
      "Epoch 17/50\n",
      "\u001b[1m2963/2963\u001b[0m \u001b[32m━━━━━━━━━━━━━━━━━━━━\u001b[0m\u001b[37m\u001b[0m \u001b[1m390s\u001b[0m 132ms/step - loss: 1.4605e-04\n",
      "Epoch 18/50\n",
      "\u001b[1m2963/2963\u001b[0m \u001b[32m━━━━━━━━━━━━━━━━━━━━\u001b[0m\u001b[37m\u001b[0m \u001b[1m360s\u001b[0m 122ms/step - loss: 1.4049e-04\n",
      "Epoch 19/50\n",
      "\u001b[1m2963/2963\u001b[0m \u001b[32m━━━━━━━━━━━━━━━━━━━━\u001b[0m\u001b[37m\u001b[0m \u001b[1m337s\u001b[0m 114ms/step - loss: 1.5498e-04\n",
      "Epoch 20/50\n",
      "\u001b[1m2963/2963\u001b[0m \u001b[32m━━━━━━━━━━━━━━━━━━━━\u001b[0m\u001b[37m\u001b[0m \u001b[1m337s\u001b[0m 114ms/step - loss: 1.2165e-04\n",
      "Epoch 21/50\n",
      "\u001b[1m2963/2963\u001b[0m \u001b[32m━━━━━━━━━━━━━━━━━━━━\u001b[0m\u001b[37m\u001b[0m \u001b[1m320s\u001b[0m 108ms/step - loss: 1.1432e-04\n",
      "Epoch 22/50\n",
      "\u001b[1m2963/2963\u001b[0m \u001b[32m━━━━━━━━━━━━━━━━━━━━\u001b[0m\u001b[37m\u001b[0m \u001b[1m335s\u001b[0m 113ms/step - loss: 1.1930e-04\n",
      "Epoch 23/50\n",
      "\u001b[1m2963/2963\u001b[0m \u001b[32m━━━━━━━━━━━━━━━━━━━━\u001b[0m\u001b[37m\u001b[0m \u001b[1m324s\u001b[0m 109ms/step - loss: 1.2946e-04\n",
      "Epoch 24/50\n",
      "\u001b[1m2963/2963\u001b[0m \u001b[32m━━━━━━━━━━━━━━━━━━━━\u001b[0m\u001b[37m\u001b[0m \u001b[1m332s\u001b[0m 112ms/step - loss: 1.2369e-04\n",
      "Epoch 25/50\n",
      "\u001b[1m2963/2963\u001b[0m \u001b[32m━━━━━━━━━━━━━━━━━━━━\u001b[0m\u001b[37m\u001b[0m \u001b[1m290s\u001b[0m 98ms/step - loss: 1.2521e-04\n",
      "Epoch 26/50\n",
      "\u001b[1m2963/2963\u001b[0m \u001b[32m━━━━━━━━━━━━━━━━━━━━\u001b[0m\u001b[37m\u001b[0m \u001b[1m297s\u001b[0m 100ms/step - loss: 1.1920e-04\n",
      "Epoch 27/50\n",
      "\u001b[1m2963/2963\u001b[0m \u001b[32m━━━━━━━━━━━━━━━━━━━━\u001b[0m\u001b[37m\u001b[0m \u001b[1m277s\u001b[0m 94ms/step - loss: 1.2226e-04\n",
      "Epoch 28/50\n",
      "\u001b[1m2963/2963\u001b[0m \u001b[32m━━━━━━━━━━━━━━━━━━━━\u001b[0m\u001b[37m\u001b[0m \u001b[1m298s\u001b[0m 100ms/step - loss: 1.4130e-04\n",
      "Epoch 29/50\n",
      "\u001b[1m2963/2963\u001b[0m \u001b[32m━━━━━━━━━━━━━━━━━━━━\u001b[0m\u001b[37m\u001b[0m \u001b[1m292s\u001b[0m 98ms/step - loss: 1.1636e-04\n",
      "Epoch 30/50\n",
      "\u001b[1m2963/2963\u001b[0m \u001b[32m━━━━━━━━━━━━━━━━━━━━\u001b[0m\u001b[37m\u001b[0m \u001b[1m279s\u001b[0m 94ms/step - loss: 1.1485e-04\n",
      "Epoch 31/50\n",
      "\u001b[1m2963/2963\u001b[0m \u001b[32m━━━━━━━━━━━━━━━━━━━━\u001b[0m\u001b[37m\u001b[0m \u001b[1m260s\u001b[0m 88ms/step - loss: 1.2404e-04\n",
      "Epoch 32/50\n",
      "\u001b[1m2963/2963\u001b[0m \u001b[32m━━━━━━━━━━━━━━━━━━━━\u001b[0m\u001b[37m\u001b[0m \u001b[1m252s\u001b[0m 85ms/step - loss: 1.2558e-04\n",
      "Epoch 33/50\n",
      "\u001b[1m2963/2963\u001b[0m \u001b[32m━━━━━━━━━━━━━━━━━━━━\u001b[0m\u001b[37m\u001b[0m \u001b[1m233s\u001b[0m 79ms/step - loss: 1.1345e-04\n",
      "Epoch 34/50\n",
      "\u001b[1m2963/2963\u001b[0m \u001b[32m━━━━━━━━━━━━━━━━━━━━\u001b[0m\u001b[37m\u001b[0m \u001b[1m224s\u001b[0m 76ms/step - loss: 1.2178e-04\n",
      "Epoch 35/50\n",
      "\u001b[1m2963/2963\u001b[0m \u001b[32m━━━━━━━━━━━━━━━━━━━━\u001b[0m\u001b[37m\u001b[0m \u001b[1m224s\u001b[0m 76ms/step - loss: 1.3786e-04\n",
      "Epoch 36/50\n",
      "\u001b[1m2963/2963\u001b[0m \u001b[32m━━━━━━━━━━━━━━━━━━━━\u001b[0m\u001b[37m\u001b[0m \u001b[1m224s\u001b[0m 76ms/step - loss: 1.0249e-04\n",
      "Epoch 37/50\n",
      "\u001b[1m2963/2963\u001b[0m \u001b[32m━━━━━━━━━━━━━━━━━━━━\u001b[0m\u001b[37m\u001b[0m \u001b[1m225s\u001b[0m 76ms/step - loss: 1.1057e-04\n",
      "Epoch 38/50\n",
      "\u001b[1m2963/2963\u001b[0m \u001b[32m━━━━━━━━━━━━━━━━━━━━\u001b[0m\u001b[37m\u001b[0m \u001b[1m226s\u001b[0m 76ms/step - loss: 1.1914e-04\n",
      "Epoch 39/50\n",
      "\u001b[1m2963/2963\u001b[0m \u001b[32m━━━━━━━━━━━━━━━━━━━━\u001b[0m\u001b[37m\u001b[0m \u001b[1m225s\u001b[0m 76ms/step - loss: 1.1830e-04\n",
      "Epoch 40/50\n",
      "\u001b[1m2963/2963\u001b[0m \u001b[32m━━━━━━━━━━━━━━━━━━━━\u001b[0m\u001b[37m\u001b[0m \u001b[1m230s\u001b[0m 78ms/step - loss: 9.9347e-05\n",
      "Epoch 41/50\n",
      "\u001b[1m2963/2963\u001b[0m \u001b[32m━━━━━━━━━━━━━━━━━━━━\u001b[0m\u001b[37m\u001b[0m \u001b[1m231s\u001b[0m 78ms/step - loss: 1.1003e-04\n",
      "Epoch 42/50\n",
      "\u001b[1m2963/2963\u001b[0m \u001b[32m━━━━━━━━━━━━━━━━━━━━\u001b[0m\u001b[37m\u001b[0m \u001b[1m227s\u001b[0m 77ms/step - loss: 1.1097e-04\n",
      "Epoch 43/50\n",
      "\u001b[1m2963/2963\u001b[0m \u001b[32m━━━━━━━━━━━━━━━━━━━━\u001b[0m\u001b[37m\u001b[0m \u001b[1m227s\u001b[0m 77ms/step - loss: 1.1524e-04\n",
      "Epoch 44/50\n",
      "\u001b[1m2963/2963\u001b[0m \u001b[32m━━━━━━━━━━━━━━━━━━━━\u001b[0m\u001b[37m\u001b[0m \u001b[1m225s\u001b[0m 76ms/step - loss: 1.0961e-04\n",
      "Epoch 45/50\n",
      "\u001b[1m2963/2963\u001b[0m \u001b[32m━━━━━━━━━━━━━━━━━━━━\u001b[0m\u001b[37m\u001b[0m \u001b[1m224s\u001b[0m 75ms/step - loss: 1.2063e-04\n",
      "Epoch 46/50\n",
      "\u001b[1m2963/2963\u001b[0m \u001b[32m━━━━━━━━━━━━━━━━━━━━\u001b[0m\u001b[37m\u001b[0m \u001b[1m222s\u001b[0m 75ms/step - loss: 1.1150e-04\n",
      "Epoch 47/50\n",
      "\u001b[1m2963/2963\u001b[0m \u001b[32m━━━━━━━━━━━━━━━━━━━━\u001b[0m\u001b[37m\u001b[0m \u001b[1m225s\u001b[0m 76ms/step - loss: 1.1195e-04\n",
      "Epoch 48/50\n",
      "\u001b[1m2963/2963\u001b[0m \u001b[32m━━━━━━━━━━━━━━━━━━━━\u001b[0m\u001b[37m\u001b[0m \u001b[1m225s\u001b[0m 76ms/step - loss: 1.0867e-04\n",
      "Epoch 49/50\n",
      "\u001b[1m2963/2963\u001b[0m \u001b[32m━━━━━━━━━━━━━━━━━━━━\u001b[0m\u001b[37m\u001b[0m \u001b[1m226s\u001b[0m 76ms/step - loss: 1.1271e-04\n",
      "Epoch 50/50\n",
      "\u001b[1m2963/2963\u001b[0m \u001b[32m━━━━━━━━━━━━━━━━━━━━\u001b[0m\u001b[37m\u001b[0m \u001b[1m221s\u001b[0m 75ms/step - loss: 1.2219e-04\n"
     ]
    },
    {
     "data": {
      "text/plain": [
       "<keras.src.callbacks.history.History at 0x1df68782750>"
      ]
     },
     "execution_count": 50,
     "metadata": {},
     "output_type": "execute_result"
    }
   ],
   "source": [
    "# LSTM Model\n",
    "from keras.models import Sequential\n",
    "model = Sequential()\n",
    "\n",
    "model.add(LSTM(units=50, return_sequences=True, input_shape=(X_train.shape[1], 1)))\n",
    "model.add(Dropout(0.2))\n",
    "\n",
    "model.add(LSTM(units=50, return_sequences=True))\n",
    "model.add(Dropout(0.2))\n",
    "\n",
    "model.add(LSTM(units=50, return_sequences=True))\n",
    "model.add(Dropout(0.2))\n",
    "\n",
    "model.add(LSTM(units=50))\n",
    "model.add(Dropout(0.2))\n",
    "\n",
    "model.add(Dense(units=1))\n",
    "\n",
    "model.compile(optimizer='rmsprop', loss='mean_squared_error')\n",
    "\n",
    "# Training the model\n",
    "model.fit(X_train, y_train, epochs=50, batch_size=32)\n"
   ]
  },
  {
   "cell_type": "code",
   "execution_count": 51,
   "metadata": {},
   "outputs": [
    {
     "name": "stdout",
     "output_type": "stream",
     "text": [
      "\u001b[1m166/166\u001b[0m \u001b[32m━━━━━━━━━━━━━━━━━━━━\u001b[0m\u001b[37m\u001b[0m \u001b[1m4s\u001b[0m 21ms/step\n"
     ]
    }
   ],
   "source": [
    "# Preparing validation data\n",
    "dataset_total = pd.concat((train['Average'], val['Average']), axis=0)\n",
    "inputs = dataset_total[len(dataset_total) - len(val) - 60:].values\n",
    "inputs = inputs.reshape(-1, 1)\n",
    "inputs = sc.transform(inputs)\n",
    "\n",
    "X_val = []\n",
    "for i in range(60, len(inputs)):\n",
    "    X_val.append(inputs[i-60:i, 0])\n",
    "\n",
    "X_val = np.array(X_val)\n",
    "X_val = np.reshape(X_val, (X_val.shape[0], X_val.shape[1], 1))\n",
    "\n",
    "# Predicting prices\n",
    "predicted_price = model.predict(X_val)\n",
    "predicted_price = sc.inverse_transform(predicted_price)\n",
    "\n",
    "\n"
   ]
  },
  {
   "cell_type": "code",
   "execution_count": 52,
   "metadata": {},
   "outputs": [],
   "source": [
    "def plot_predictions(test, predicted, title=\"Commodity Price Prediction\"):\n",
    "    plt.plot(test, color='red', label='Real Price')\n",
    "    plt.plot(predicted, color='blue', label='Predicted Price')\n",
    "    plt.title(title)\n",
    "    plt.xlabel('Date')\n",
    "    plt.ylabel('Price')\n",
    "    plt.legend()\n",
    "    plt.show()\n",
    "\n",
    "def return_rmse(test, predicted):\n",
    "    rmse = math.sqrt(mean_squared_error(test, predicted))\n",
    "    print(f\"The root mean squared error is {rmse:.4f}.\")"
   ]
  },
  {
   "cell_type": "code",
   "execution_count": 53,
   "metadata": {},
   "outputs": [
    {
     "data": {
      "image/png": "[encoded data removed]",
      "text/plain": [
       "<Figure size 640x480 with 1 Axes>"
      ]
     },
     "metadata": {},
     "output_type": "display_data"
    },
    {
     "name": "stdout",
     "output_type": "stream",
     "text": [
      "The root mean squared error is 15.0809.\n"
     ]
    }
   ],
   "source": [
    "# Visualizing the results\n",
    "plot_predictions(val['Average'].values, predicted_price)\n",
    "return_rmse(val['Average'].values, predicted_price)"
   ]
  },
  {
   "cell_type": "code",
   "execution_count": null,
   "metadata": {},
   "outputs": [],
   "source": [
    "''"
   ]
  },
  {
   "cell_type": "markdown",
   "metadata": {},
   "source": [
    "#"
   ]
  }
 ],
 "metadata": {
  "kernelspec": {
   "display_name": "venv",
   "language": "python",
   "name": "python3"
  },
  "language_info": {
   "codemirror_mode": {
    "name": "ipython",
    "version": 3
   },
   "file_extension": ".py",
   "mimetype": "text/x-python",
   "name": "python",
   "nbconvert_exporter": "python",
   "pygments_lexer": "ipython3",
   "version": "3.11.5"
  }
 },
 "nbformat": 4,
 "nbformat_minor": 2
}
